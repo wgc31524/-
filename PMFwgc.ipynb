{
 "cells": [
  {
   "cell_type": "code",
   "execution_count": 1,
   "id": "5fbc5d33",
   "metadata": {},
   "outputs": [],
   "source": [
    "import numpy as np\n",
    "import math\n",
    "from sklearn.model_selection import train_test_split\n",
    "from data import *\n",
    "from evaluation import *\n",
    "%matplotlib inline"
   ]
  },
  {
   "cell_type": "code",
   "execution_count": 2,
   "id": "818ce850",
   "metadata": {},
   "outputs": [
    {
     "name": "stdout",
     "output_type": "stream",
     "text": [
      " data length: 100000 \n",
      " user number: 943 \n",
      " item number: 1682\n"
     ]
    }
   ],
   "source": [
    "data_dir = '/u.data' \n",
    "N, M, data_list, _ = load_data(file_dir=data_dir)\n",
    "print(' data length: %d \\n user number: %d \\n item number: %d' %(len(data_list),N,M))"
   ]
  },
  {
   "cell_type": "code",
   "execution_count": 3,
   "id": "ae87d157",
   "metadata": {},
   "outputs": [
    {
     "name": "stdout",
     "output_type": "stream",
     "text": [
      "train length: 80000 \n",
      " test length: 20000\n"
     ]
    }
   ],
   "source": [
    "train_list, test_list = train_test_split(data_list,test_size=0.2)\n",
    "print ('train length: %d \\n test length: %d' %(len(train_list),len(test_list)))\n",
    "train_mat = sequence2mat(sequence = train_list, N = N, M = M)\n",
    "test_mat = sequence2mat(sequence = test_list, N = N, M = M)"
   ]
  },
  {
   "cell_type": "code",
   "execution_count": 4,
   "id": "6381eb60",
   "metadata": {},
   "outputs": [],
   "source": [
    "learning_rate = 0.005\n",
    "lamda_regularizer = 0.1\n",
    "max_iteration = 100\n",
    "K = 10"
   ]
  },
  {
   "cell_type": "code",
   "execution_count": null,
   "id": "a7184439",
   "metadata": {},
   "outputs": [
    {
     "name": "stdout",
     "output_type": "stream",
     "text": [
      " step:0 \n",
      " loss:549571.0138,mae:3.5221,rmse:3.6978\n",
      " step:10 \n",
      " loss:65565.4752,mae:0.7875,rmse:0.9957\n",
      " step:20 \n",
      " loss:62784.5263,mae:0.7647,rmse:0.9610\n",
      " step:30 \n",
      " loss:61486.2461,mae:0.7526,rmse:0.9448\n",
      " step:40 \n",
      " loss:60639.2552,mae:0.7457,rmse:0.9362\n",
      " step:50 \n",
      " loss:59997.8981,mae:0.7412,rmse:0.9309\n",
      " step:60 \n",
      " loss:59479.6385,mae:0.7380,rmse:0.9275\n",
      " step:70 \n",
      " loss:59067.2421,mae:0.7359,rmse:0.9253\n"
     ]
    }
   ],
   "source": [
    "from pmftest import *\n",
    "model = pmf(train_list=train_list, \n",
    "            test_list=test_list, \n",
    "            N=N, \n",
    "            M=M,\n",
    "            K=K,\n",
    "            learning_rate=learning_rate, \n",
    "            lamda_regularizer=lamda_regularizer, \n",
    "            max_iteration=max_iteration)\n",
    "P, Q, records_array = model.train()\n",
    "\n",
    "\n",
    "figure(values_list=records_array[:,0],name='loss')\n",
    "figure(values_list=records_array[:,1],name='MAE')"
   ]
  },
  {
   "cell_type": "code",
   "execution_count": null,
   "id": "fb138609",
   "metadata": {},
   "outputs": [],
   "source": []
  },
  {
   "cell_type": "code",
   "execution_count": null,
   "id": "6c311a3b",
   "metadata": {},
   "outputs": [],
   "source": []
  },
  {
   "cell_type": "code",
   "execution_count": null,
   "id": "a7a9a1c3",
   "metadata": {},
   "outputs": [],
   "source": []
  },
  {
   "cell_type": "code",
   "execution_count": null,
   "id": "5819bbce",
   "metadata": {},
   "outputs": [],
   "source": []
  }
 ],
 "metadata": {
  "kernelspec": {
   "display_name": "Python 3",
   "language": "python",
   "name": "python3"
  },
  "language_info": {
   "codemirror_mode": {
    "name": "ipython",
    "version": 3
   },
   "file_extension": ".py",
   "mimetype": "text/x-python",
   "name": "python",
   "nbconvert_exporter": "python",
   "pygments_lexer": "ipython3",
   "version": "3.7.0"
  }
 },
 "nbformat": 4,
 "nbformat_minor": 5
}
